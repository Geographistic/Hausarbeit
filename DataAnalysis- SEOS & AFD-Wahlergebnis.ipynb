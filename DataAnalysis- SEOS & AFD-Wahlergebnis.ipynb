{
 "cells": [
  {
   "cell_type": "markdown",
   "metadata": {},
   "source": [
    "## Wer wählt die Afd?- Geostatistische Erkundung von Wahlmustern der AfD anhand von Soziodemographischen Strukturen"
   ]
  },
  {
   "cell_type": "markdown",
   "metadata": {},
   "source": [
    "Die Untersuchung geht der Frage nach inwiefern sozioökonomissche und soziodemografische Strukturen auf Ebene der Wahlkreise mit dem Wahlergebnis der Partei ,,Alternative für Deutschland\" (AfD) zusammenhängt."
   ]
  },
  {
   "cell_type": "markdown",
   "metadata": {},
   "source": [
    "Gliederung:\n",
    "\n",
    "1. Einleitung und Einordnung in den Kontext - 1 1/2 Seiten     - PR\n",
    "2. AfD als populistische Partei - 1 Seite    - PR\n",
    "3. Allgemeine Populistische Wahltheorien - 2 Seiten      - PK\n",
    "4. Prüfhypothesen - 1/2 Seite          - PK\n",
    "5. Datengrundlage - 1 Seiten           -PR\n",
    "6. Methodik - Verfahren - 1 Seite      -AK\n",
    "7. Methodik - Programme - 1 Seite      -PK\n",
    "\n",
    "8. Durchführung Statistik\n",
    " - Deskriptive Statistik - 1 Seite?      - AK\n",
    "     --> Karte - PR\n",
    " - Bivariate Zusammenhangsmaße: Korrelation & Regression - 1 Seite - PK & AK\n",
    " - Multivariate Regressionsanalyse - 1 Seite - AK & PK\n",
    " \n",
    "\n",
    "8. Interpretation und Einordnung in aktuellen Forschungsstand  - 2 1/2 Seiten    - PR & Co. \n",
    "9. Methodenreflexion - 1/2 Seite    - AK\n",
    "10. Fazit/Ausblick - 1 Seite    - AK & Co.\n",
    "\n",
    "11. Anhang"
   ]
  },
  {
   "cell_type": "markdown",
   "metadata": {
    "slideshow": {
     "slide_type": "-"
    }
   },
   "source": [
    "### Forschungshypothesen:\n",
    "\n",
    "Inhaltliche Herleitung:\n",
    "\n",
    "1. Sozioökonomische Modernisierungsverlierertheorie: Es wird angenommen, dass reale (auch befürchtete) sozioökonomische Deprivation sich in einer Abkehr von etablierten Parteien hin zu populistischen oder extremistischen Parteien, (welche Lösungen suggerieren,) niederschlagen kann.\n",
    "\n",
    "2. Kontakthypothese: Es wird angenommen, dass ein höherer Anteil von Menschen mit Migrationshintergrund in einem Wahlkreise mit einem geringeren Erfolg für populistische oder extremistische Parteien einhergeht.\n",
    "\n",
    "\n",
    "    Andere: Politische und kulturelle Wertorientierungen "
   ]
  },
  {
   "cell_type": "markdown",
   "metadata": {},
   "source": [
    "#### Prüfhypothesen"
   ]
  },
  {
   "cell_type": "markdown",
   "metadata": {},
   "source": [
    "1. In Wahlkreisen welche sozioökonomisch und strukturell schlechter aufgestellt sind, ist der Zweitstimmenanteil für die AfD höher.\n",
    "\n",
    "\n",
    "2. In Wahlkreisen mit einem geringeren Anteil von Menschen mit Migrationshintergrund, ist der Zweitstimmenanteil der AfD höher.\n",
    "    \n",
    "    \n",
    "3. Zeigt sich ein soziostruktureller West-Ost Unterschied über die Wahlkreise und inwiefern gibt es einen Zusammenhang mit dem AfD Zweitstimmenergebnis\n"
   ]
  },
  {
   "cell_type": "markdown",
   "metadata": {},
   "source": [
    "## Datengrundlage:\n",
    "Die Untersuchung basiert auf Datensätzen des Bundeswahlleiters. \n",
    "\n",
    "Als Wahlergebnisse der Bundestagswahl 2017 wurden ausschließlich die Zweitstimmenergebnisse der im Bundestag vertetenen Parteien herangezogen. Diese wurden zusätzlich in den prozentualen Anteil an aller im Wahlkreis gültigen Zweitstimmen umgerechnet. Es werden nur die Ergebnisse der AfD betrachtet.\n",
    "\n",
    "Sozioökonomische Indikatoren:\n",
    "- Bruttoinlandsprodukt\n",
    "- Verfügbares Einkommen\n",
    "- SGB2 - Rate\n",
    "- Arbeitslosenquote\n",
    "\n",
    "Soziodemographischer Indikator:\n",
    "- Anteil der Bevölerung mit Migrationshintergrund\n",
    "\n",
    ",,Räumlicher\" Faktor:\n",
    "Aus den Länderzugehörigkeiten der Wahlkreise wurde eine West-Ost Dummy (binäre) Variable codiert. Die Wahlkreise der 10 alten Bundesländer erhalten den Wert 0 und die Wahlkreise der 6 neuen Bundeländer inklusive Berlin erhalten den Wert 1.\n",
    "\n",
    "Weitere Indikatoren/Kontrollvariablen:\n",
    "\n",
    "- Alter\n",
    "- Konfession\n",
    "- Bevölkerungsdichte\n",
    "- Bevölkerung mit Fachhochschulreife"
   ]
  },
  {
   "cell_type": "markdown",
   "metadata": {},
   "source": [
    "## Einladen der Daten"
   ]
  },
  {
   "cell_type": "code",
   "execution_count": 39,
   "metadata": {},
   "outputs": [],
   "source": [
    "Wahlergebnisse <- read.csv(\"Bundestagswahlergebnisse_2017_Wahlkreise.csv\", header = TRUE)"
   ]
  },
  {
   "cell_type": "code",
   "execution_count": 14,
   "metadata": {},
   "outputs": [],
   "source": [
    "Strukturdaten <- read.csv(\"Strukturdaten_Wahlkreise.csv\", header = TRUE)\n",
    "Strukturdaten_split <- split(Strukturdaten, Strukturdaten$Dummy_West_Ost)"
   ]
  },
  {
   "cell_type": "code",
   "execution_count": 4,
   "metadata": {
    "collapsed": true
   },
   "outputs": [
    {
     "data": {
      "text/html": [
       "<table>\n",
       "<thead><tr><th scope=col>Nr</th><th scope=col>Gebiet</th><th scope=col>Kennzeichnung</th><th scope=col>Wahlberechtigte</th><th scope=col>Wähler</th><th scope=col>Gültige_Zweitstimmen</th><th scope=col>CDU_Zweitstimmen</th><th scope=col>SPD_Zweitstimmen</th><th scope=col>LINKE_Zweitstimmen</th><th scope=col>GRÜNEN_Zweitstimmen</th><th scope=col>...</th><th scope=col>CDU_und_CSU_Zweitstimmen</th><th scope=col>CDU_Prozent</th><th scope=col>SPD_Prozent</th><th scope=col>LINKE_Prozent</th><th scope=col>GRÜNEN_Prozent</th><th scope=col>CSU_Prozent</th><th scope=col>FDP_Prozent</th><th scope=col>AFD_Prozent</th><th scope=col>CDU_und_CSU_Prozent</th><th scope=col>Wahlsieger_Zweitstimme</th></tr></thead>\n",
       "<tbody>\n",
       "\t<tr><td>1                                </td><td>Flensburg - Schleswig            </td><td>1                                </td><td>228471                           </td><td>171914                           </td><td>170465                           </td><td>58320                            </td><td>40388                            </td><td>14002                            </td><td>22304                            </td><td>...                              </td><td>58320                            </td><td>34.21                            </td><td>23.69                            </td><td> 8.21                            </td><td>13.08                            </td><td>NA                               </td><td>11.12                            </td><td>6.84                             </td><td>34.21                            </td><td>CDU                              </td></tr>\n",
       "\t<tr><td>2                                </td><td>Nordfriesland - Dithmarschen Nord</td><td>1                                </td><td>186568                           </td><td>139194                           </td><td>138071                           </td><td>52928                            </td><td>31120                            </td><td> 8589                            </td><td>15144                            </td><td>...                              </td><td>52928                            </td><td>38.33                            </td><td>22.54                            </td><td> 6.22                            </td><td>10.97                            </td><td>NA                               </td><td>13.07                            </td><td>6.54                             </td><td>38.33                            </td><td>CDU                              </td></tr>\n",
       "\t<tr><td>3                                </td><td>Steinburg - Dithmarschen Süd     </td><td>1                                </td><td>176636                           </td><td>132017                           </td><td>130878                           </td><td>47366                            </td><td>29756                            </td><td> 8732                            </td><td>12960                            </td><td>...                              </td><td>47366                            </td><td>36.19                            </td><td>22.74                            </td><td> 6.67                            </td><td> 9.90                            </td><td>NA                               </td><td>13.22                            </td><td>8.54                             </td><td>36.19                            </td><td>CDU                              </td></tr>\n",
       "\t<tr><td>4                                </td><td>Rendsburg-Eckernförde            </td><td>1                                </td><td>200831                           </td><td>157354                           </td><td>156267                           </td><td>56585                            </td><td>35766                            </td><td> 9962                            </td><td>19337                            </td><td>...                              </td><td>56585                            </td><td>36.21                            </td><td>22.89                            </td><td> 6.37                            </td><td>12.37                            </td><td>NA                               </td><td>12.20                            </td><td>7.41                             </td><td>36.21                            </td><td>CDU                              </td></tr>\n",
       "\t<tr><td>5                                </td><td>Kiel                             </td><td>1                                </td><td>204650                           </td><td>153273                           </td><td>152069                           </td><td>40736                            </td><td>36208                            </td><td>15546                            </td><td>26143                            </td><td>...                              </td><td>40736                            </td><td>26.79                            </td><td>23.81                            </td><td>10.22                            </td><td>17.19                            </td><td>NA                               </td><td>11.71                            </td><td>6.91                             </td><td>26.79                            </td><td>CDU                              </td></tr>\n",
       "\t<tr><td>6                                </td><td>Plön - Neumünster                </td><td>1                                </td><td>174937                           </td><td>131713                           </td><td>130514                           </td><td>43778                            </td><td>31013                            </td><td> 8503                            </td><td>16350                            </td><td>...                              </td><td>43778                            </td><td>33.54                            </td><td>23.76                            </td><td> 6.52                            </td><td>12.53                            </td><td>NA                               </td><td>12.63                            </td><td>8.55                             </td><td>33.54                            </td><td>CDU                              </td></tr>\n",
       "</tbody>\n",
       "</table>\n"
      ],
      "text/latex": [
       "\\begin{tabular}{r|lllllllllllllllllllllll}\n",
       " Nr & Gebiet & Kennzeichnung & Wahlberechtigte & Wähler & Gültige\\_Zweitstimmen & CDU\\_Zweitstimmen & SPD\\_Zweitstimmen & LINKE\\_Zweitstimmen & GRÜNEN\\_Zweitstimmen & ... & CDU\\_und\\_CSU\\_Zweitstimmen & CDU\\_Prozent & SPD\\_Prozent & LINKE\\_Prozent & GRÜNEN\\_Prozent & CSU\\_Prozent & FDP\\_Prozent & AFD\\_Prozent & CDU\\_und\\_CSU\\_Prozent & Wahlsieger\\_Zweitstimme\\\\\n",
       "\\hline\n",
       "\t 1                                 & Flensburg - Schleswig             & 1                                 & 228471                            & 171914                            & 170465                            & 58320                             & 40388                             & 14002                             & 22304                             & ...                               & 58320                             & 34.21                             & 23.69                             &  8.21                             & 13.08                             & NA                                & 11.12                             & 6.84                              & 34.21                             & CDU                              \\\\\n",
       "\t 2                                 & Nordfriesland - Dithmarschen Nord & 1                                 & 186568                            & 139194                            & 138071                            & 52928                             & 31120                             &  8589                             & 15144                             & ...                               & 52928                             & 38.33                             & 22.54                             &  6.22                             & 10.97                             & NA                                & 13.07                             & 6.54                              & 38.33                             & CDU                              \\\\\n",
       "\t 3                                 & Steinburg - Dithmarschen Süd      & 1                                 & 176636                            & 132017                            & 130878                            & 47366                             & 29756                             &  8732                             & 12960                             & ...                               & 47366                             & 36.19                             & 22.74                             &  6.67                             &  9.90                             & NA                                & 13.22                             & 8.54                              & 36.19                             & CDU                              \\\\\n",
       "\t 4                                 & Rendsburg-Eckernförde             & 1                                 & 200831                            & 157354                            & 156267                            & 56585                             & 35766                             &  9962                             & 19337                             & ...                               & 56585                             & 36.21                             & 22.89                             &  6.37                             & 12.37                             & NA                                & 12.20                             & 7.41                              & 36.21                             & CDU                              \\\\\n",
       "\t 5                                 & Kiel                              & 1                                 & 204650                            & 153273                            & 152069                            & 40736                             & 36208                             & 15546                             & 26143                             & ...                               & 40736                             & 26.79                             & 23.81                             & 10.22                             & 17.19                             & NA                                & 11.71                             & 6.91                              & 26.79                             & CDU                              \\\\\n",
       "\t 6                                 & Plön - Neumünster                 & 1                                 & 174937                            & 131713                            & 130514                            & 43778                             & 31013                             &  8503                             & 16350                             & ...                               & 43778                             & 33.54                             & 23.76                             &  6.52                             & 12.53                             & NA                                & 12.63                             & 8.55                              & 33.54                             & CDU                              \\\\\n",
       "\\end{tabular}\n"
      ],
      "text/markdown": [
       "\n",
       "| Nr | Gebiet | Kennzeichnung | Wahlberechtigte | Wähler | Gültige_Zweitstimmen | CDU_Zweitstimmen | SPD_Zweitstimmen | LINKE_Zweitstimmen | GRÜNEN_Zweitstimmen | ... | CDU_und_CSU_Zweitstimmen | CDU_Prozent | SPD_Prozent | LINKE_Prozent | GRÜNEN_Prozent | CSU_Prozent | FDP_Prozent | AFD_Prozent | CDU_und_CSU_Prozent | Wahlsieger_Zweitstimme |\n",
       "|---|---|---|---|---|---|---|---|---|---|---|---|---|---|---|---|---|---|---|---|---|\n",
       "| 1                                 | Flensburg - Schleswig             | 1                                 | 228471                            | 171914                            | 170465                            | 58320                             | 40388                             | 14002                             | 22304                             | ...                               | 58320                             | 34.21                             | 23.69                             |  8.21                             | 13.08                             | NA                                | 11.12                             | 6.84                              | 34.21                             | CDU                               |\n",
       "| 2                                 | Nordfriesland - Dithmarschen Nord | 1                                 | 186568                            | 139194                            | 138071                            | 52928                             | 31120                             |  8589                             | 15144                             | ...                               | 52928                             | 38.33                             | 22.54                             |  6.22                             | 10.97                             | NA                                | 13.07                             | 6.54                              | 38.33                             | CDU                               |\n",
       "| 3                                 | Steinburg - Dithmarschen Süd      | 1                                 | 176636                            | 132017                            | 130878                            | 47366                             | 29756                             |  8732                             | 12960                             | ...                               | 47366                             | 36.19                             | 22.74                             |  6.67                             |  9.90                             | NA                                | 13.22                             | 8.54                              | 36.19                             | CDU                               |\n",
       "| 4                                 | Rendsburg-Eckernförde             | 1                                 | 200831                            | 157354                            | 156267                            | 56585                             | 35766                             |  9962                             | 19337                             | ...                               | 56585                             | 36.21                             | 22.89                             |  6.37                             | 12.37                             | NA                                | 12.20                             | 7.41                              | 36.21                             | CDU                               |\n",
       "| 5                                 | Kiel                              | 1                                 | 204650                            | 153273                            | 152069                            | 40736                             | 36208                             | 15546                             | 26143                             | ...                               | 40736                             | 26.79                             | 23.81                             | 10.22                             | 17.19                             | NA                                | 11.71                             | 6.91                              | 26.79                             | CDU                               |\n",
       "| 6                                 | Plön - Neumünster                 | 1                                 | 174937                            | 131713                            | 130514                            | 43778                             | 31013                             |  8503                             | 16350                             | ...                               | 43778                             | 33.54                             | 23.76                             |  6.52                             | 12.53                             | NA                                | 12.63                             | 8.55                              | 33.54                             | CDU                               |\n",
       "\n"
      ],
      "text/plain": [
       "  Nr Gebiet                            Kennzeichnung Wahlberechtigte Wähler\n",
       "1 1  Flensburg - Schleswig             1             228471          171914\n",
       "2 2  Nordfriesland - Dithmarschen Nord 1             186568          139194\n",
       "3 3  Steinburg - Dithmarschen Süd      1             176636          132017\n",
       "4 4  Rendsburg-Eckernförde             1             200831          157354\n",
       "5 5  Kiel                              1             204650          153273\n",
       "6 6  Plön - Neumünster                 1             174937          131713\n",
       "  Gültige_Zweitstimmen CDU_Zweitstimmen SPD_Zweitstimmen LINKE_Zweitstimmen\n",
       "1 170465               58320            40388            14002             \n",
       "2 138071               52928            31120             8589             \n",
       "3 130878               47366            29756             8732             \n",
       "4 156267               56585            35766             9962             \n",
       "5 152069               40736            36208            15546             \n",
       "6 130514               43778            31013             8503             \n",
       "  GRÜNEN_Zweitstimmen ... CDU_und_CSU_Zweitstimmen CDU_Prozent SPD_Prozent\n",
       "1 22304               ... 58320                    34.21       23.69      \n",
       "2 15144               ... 52928                    38.33       22.54      \n",
       "3 12960               ... 47366                    36.19       22.74      \n",
       "4 19337               ... 56585                    36.21       22.89      \n",
       "5 26143               ... 40736                    26.79       23.81      \n",
       "6 16350               ... 43778                    33.54       23.76      \n",
       "  LINKE_Prozent GRÜNEN_Prozent CSU_Prozent FDP_Prozent AFD_Prozent\n",
       "1  8.21         13.08          NA          11.12       6.84       \n",
       "2  6.22         10.97          NA          13.07       6.54       \n",
       "3  6.67          9.90          NA          13.22       8.54       \n",
       "4  6.37         12.37          NA          12.20       7.41       \n",
       "5 10.22         17.19          NA          11.71       6.91       \n",
       "6  6.52         12.53          NA          12.63       8.55       \n",
       "  CDU_und_CSU_Prozent Wahlsieger_Zweitstimme\n",
       "1 34.21               CDU                   \n",
       "2 38.33               CDU                   \n",
       "3 36.19               CDU                   \n",
       "4 36.21               CDU                   \n",
       "5 26.79               CDU                   \n",
       "6 33.54               CDU                   "
      ]
     },
     "metadata": {},
     "output_type": "display_data"
    }
   ],
   "source": [
    "head(Wahlergebnisse)"
   ]
  },
  {
   "cell_type": "code",
   "execution_count": 40,
   "metadata": {},
   "outputs": [
    {
     "data": {
      "text/html": [
       "<table>\n",
       "<thead><tr><th scope=col>Land</th><th scope=col>Wahlkreisnummer</th><th scope=col>Wahlkreisname</th><th scope=col>Bevölkerung_Insgesamt_in1000</th><th scope=col>Bevölkerung_Deutsche_in1000</th><th scope=col>Bevölkerung_Ausländer_Prozent</th><th scope=col>Alter_unter18</th><th scope=col>Alter_18bis24</th><th scope=col>Alter_25bis34</th><th scope=col>Alter_35bis59</th><th scope=col>...</th><th scope=col>Bevölkerung_mitMigrationshintergrund</th><th scope=col>Bevölkerung_Religionszugehörigkeit_Römisch_katholisch</th><th scope=col>Bevölkerung_Religionszugehörigkeit_EvangelischeKirche</th><th scope=col>Bevölkerung_Religionszugehörigkeit_keine_OhneAngabe</th><th scope=col>Verfügbares_Einkommen_jeEinwohner</th><th scope=col>Bruttoinlandsprodukt_jeEinwohner</th><th scope=col>Absolventen_allgemeiner_Fachhochschulreife</th><th scope=col>Arbeitslosenquote_insgesamt_2017</th><th scope=col>EmpfängerInnen_SGBII_Leistungen_je1000</th><th scope=col>Dummy_West_Ost</th></tr></thead>\n",
       "<tbody>\n",
       "\t<tr><td>Schleswig-Holstein               </td><td>1                                </td><td>Flensburg – Schleswig            </td><td>282.8                            </td><td>266.7                            </td><td>5.7                              </td><td>16.5                             </td><td> 8.7                             </td><td>11.3                             </td><td>35.0                             </td><td>...                              </td><td>10.0                             </td><td>5.1                              </td><td>59.5                             </td><td>35.5                             </td><td>20265                            </td><td>28300                            </td><td>30.4                             </td><td>7.2                              </td><td> 88.5                            </td><td>0                                </td></tr>\n",
       "\t<tr><td>Schleswig-Holstein               </td><td>2                                </td><td>Nordfriesland – Dithmarschen Nord</td><td>232.3                            </td><td>219.7                            </td><td>5.4                              </td><td>16.1                             </td><td> 8.0                             </td><td>10.4                             </td><td>35.1                             </td><td>...                              </td><td> 8.0                             </td><td>5.2                              </td><td>65.0                             </td><td>29.8                             </td><td>22159                            </td><td>30078                            </td><td>23.4                             </td><td>7.2                              </td><td> 70.9                            </td><td>0                                </td></tr>\n",
       "\t<tr><td>Schleswig-Holstein               </td><td>3                                </td><td>Steinburg – Dithmarschen Süd     </td><td>220.8                            </td><td>209.8                            </td><td>5.0                              </td><td>16.7                             </td><td> 7.6                             </td><td> 9.9                             </td><td>37.0                             </td><td>...                              </td><td> 9.2                             </td><td>4.2                              </td><td>59.9                             </td><td>35.9                             </td><td>20896                            </td><td>29298                            </td><td>29.0                             </td><td>6.6                              </td><td> 80.1                            </td><td>0                                </td></tr>\n",
       "\t<tr><td>Schleswig-Holstein               </td><td>4                                </td><td>Rendsburg-Eckernförde            </td><td>248.7                            </td><td>239.4                            </td><td>3.7                              </td><td>17.3                             </td><td> 7.2                             </td><td> 9.4                             </td><td>37.2                             </td><td>...                              </td><td> 8.5                             </td><td>4.9                              </td><td>58.3                             </td><td>36.8                             </td><td>22093                            </td><td>26659                            </td><td>30.9                             </td><td>5.1                              </td><td> 59.4                            </td><td>0                                </td></tr>\n",
       "\t<tr><td>Schleswig-Holstein               </td><td>5                                </td><td>Kiel                             </td><td>268.0                            </td><td>242.9                            </td><td>9.4                              </td><td>14.6                             </td><td>10.8                             </td><td>17.4                             </td><td>32.8                             </td><td>...                              </td><td>18.0                             </td><td>7.3                              </td><td>41.8                             </td><td>50.9                             </td><td>18637                            </td><td>42836                            </td><td>43.6                             </td><td>8.8                              </td><td>138.7                            </td><td>0                                </td></tr>\n",
       "\t<tr><td>Schleswig-Holstein               </td><td>6                                </td><td>Plön – Neumünster                </td><td>219.8                            </td><td>206.8                            </td><td>5.9                              </td><td>16.4                             </td><td> 7.3                             </td><td>10.1                             </td><td>35.8                             </td><td>...                              </td><td>10.8                             </td><td>5.6                              </td><td>54.1                             </td><td>40.3                             </td><td>20395                            </td><td>25983                            </td><td>34.6                             </td><td>6.9                              </td><td> 86.8                            </td><td>0                                </td></tr>\n",
       "</tbody>\n",
       "</table>\n"
      ],
      "text/latex": [
       "\\begin{tabular}{r|llllllllllllllllllllll}\n",
       " Land & Wahlkreisnummer & Wahlkreisname & Bevölkerung\\_Insgesamt\\_in1000 & Bevölkerung\\_Deutsche\\_in1000 & Bevölkerung\\_Ausländer\\_Prozent & Alter\\_unter18 & Alter\\_18bis24 & Alter\\_25bis34 & Alter\\_35bis59 & ... & Bevölkerung\\_mitMigrationshintergrund & Bevölkerung\\_Religionszugehörigkeit\\_Römisch\\_katholisch & Bevölkerung\\_Religionszugehörigkeit\\_EvangelischeKirche & Bevölkerung\\_Religionszugehörigkeit\\_keine\\_OhneAngabe & Verfügbares\\_Einkommen\\_jeEinwohner & Bruttoinlandsprodukt\\_jeEinwohner & Absolventen\\_allgemeiner\\_Fachhochschulreife & Arbeitslosenquote\\_insgesamt\\_2017 & EmpfängerInnen\\_SGBII\\_Leistungen\\_je1000 & Dummy\\_West\\_Ost\\\\\n",
       "\\hline\n",
       "\t Schleswig-Holstein                & 1                                 & Flensburg – Schleswig             & 282.8                             & 266.7                             & 5.7                               & 16.5                              &  8.7                              & 11.3                              & 35.0                              & ...                               & 10.0                              & 5.1                               & 59.5                              & 35.5                              & 20265                             & 28300                             & 30.4                              & 7.2                               &  88.5                             & 0                                \\\\\n",
       "\t Schleswig-Holstein                & 2                                 & Nordfriesland – Dithmarschen Nord & 232.3                             & 219.7                             & 5.4                               & 16.1                              &  8.0                              & 10.4                              & 35.1                              & ...                               &  8.0                              & 5.2                               & 65.0                              & 29.8                              & 22159                             & 30078                             & 23.4                              & 7.2                               &  70.9                             & 0                                \\\\\n",
       "\t Schleswig-Holstein                & 3                                 & Steinburg – Dithmarschen Süd      & 220.8                             & 209.8                             & 5.0                               & 16.7                              &  7.6                              &  9.9                              & 37.0                              & ...                               &  9.2                              & 4.2                               & 59.9                              & 35.9                              & 20896                             & 29298                             & 29.0                              & 6.6                               &  80.1                             & 0                                \\\\\n",
       "\t Schleswig-Holstein                & 4                                 & Rendsburg-Eckernförde             & 248.7                             & 239.4                             & 3.7                               & 17.3                              &  7.2                              &  9.4                              & 37.2                              & ...                               &  8.5                              & 4.9                               & 58.3                              & 36.8                              & 22093                             & 26659                             & 30.9                              & 5.1                               &  59.4                             & 0                                \\\\\n",
       "\t Schleswig-Holstein                & 5                                 & Kiel                              & 268.0                             & 242.9                             & 9.4                               & 14.6                              & 10.8                              & 17.4                              & 32.8                              & ...                               & 18.0                              & 7.3                               & 41.8                              & 50.9                              & 18637                             & 42836                             & 43.6                              & 8.8                               & 138.7                             & 0                                \\\\\n",
       "\t Schleswig-Holstein                & 6                                 & Plön – Neumünster                 & 219.8                             & 206.8                             & 5.9                               & 16.4                              &  7.3                              & 10.1                              & 35.8                              & ...                               & 10.8                              & 5.6                               & 54.1                              & 40.3                              & 20395                             & 25983                             & 34.6                              & 6.9                               &  86.8                             & 0                                \\\\\n",
       "\\end{tabular}\n"
      ],
      "text/markdown": [
       "\n",
       "| Land | Wahlkreisnummer | Wahlkreisname | Bevölkerung_Insgesamt_in1000 | Bevölkerung_Deutsche_in1000 | Bevölkerung_Ausländer_Prozent | Alter_unter18 | Alter_18bis24 | Alter_25bis34 | Alter_35bis59 | ... | Bevölkerung_mitMigrationshintergrund | Bevölkerung_Religionszugehörigkeit_Römisch_katholisch | Bevölkerung_Religionszugehörigkeit_EvangelischeKirche | Bevölkerung_Religionszugehörigkeit_keine_OhneAngabe | Verfügbares_Einkommen_jeEinwohner | Bruttoinlandsprodukt_jeEinwohner | Absolventen_allgemeiner_Fachhochschulreife | Arbeitslosenquote_insgesamt_2017 | EmpfängerInnen_SGBII_Leistungen_je1000 | Dummy_West_Ost |\n",
       "|---|---|---|---|---|---|---|---|---|---|---|---|---|---|---|---|---|---|---|---|---|\n",
       "| Schleswig-Holstein                | 1                                 | Flensburg – Schleswig             | 282.8                             | 266.7                             | 5.7                               | 16.5                              |  8.7                              | 11.3                              | 35.0                              | ...                               | 10.0                              | 5.1                               | 59.5                              | 35.5                              | 20265                             | 28300                             | 30.4                              | 7.2                               |  88.5                             | 0                                 |\n",
       "| Schleswig-Holstein                | 2                                 | Nordfriesland – Dithmarschen Nord | 232.3                             | 219.7                             | 5.4                               | 16.1                              |  8.0                              | 10.4                              | 35.1                              | ...                               |  8.0                              | 5.2                               | 65.0                              | 29.8                              | 22159                             | 30078                             | 23.4                              | 7.2                               |  70.9                             | 0                                 |\n",
       "| Schleswig-Holstein                | 3                                 | Steinburg – Dithmarschen Süd      | 220.8                             | 209.8                             | 5.0                               | 16.7                              |  7.6                              |  9.9                              | 37.0                              | ...                               |  9.2                              | 4.2                               | 59.9                              | 35.9                              | 20896                             | 29298                             | 29.0                              | 6.6                               |  80.1                             | 0                                 |\n",
       "| Schleswig-Holstein                | 4                                 | Rendsburg-Eckernförde             | 248.7                             | 239.4                             | 3.7                               | 17.3                              |  7.2                              |  9.4                              | 37.2                              | ...                               |  8.5                              | 4.9                               | 58.3                              | 36.8                              | 22093                             | 26659                             | 30.9                              | 5.1                               |  59.4                             | 0                                 |\n",
       "| Schleswig-Holstein                | 5                                 | Kiel                              | 268.0                             | 242.9                             | 9.4                               | 14.6                              | 10.8                              | 17.4                              | 32.8                              | ...                               | 18.0                              | 7.3                               | 41.8                              | 50.9                              | 18637                             | 42836                             | 43.6                              | 8.8                               | 138.7                             | 0                                 |\n",
       "| Schleswig-Holstein                | 6                                 | Plön – Neumünster                 | 219.8                             | 206.8                             | 5.9                               | 16.4                              |  7.3                              | 10.1                              | 35.8                              | ...                               | 10.8                              | 5.6                               | 54.1                              | 40.3                              | 20395                             | 25983                             | 34.6                              | 6.9                               |  86.8                             | 0                                 |\n",
       "\n"
      ],
      "text/plain": [
       "  Land               Wahlkreisnummer Wahlkreisname                    \n",
       "1 Schleswig-Holstein 1               Flensburg – Schleswig            \n",
       "2 Schleswig-Holstein 2               Nordfriesland – Dithmarschen Nord\n",
       "3 Schleswig-Holstein 3               Steinburg – Dithmarschen Süd     \n",
       "4 Schleswig-Holstein 4               Rendsburg-Eckernförde            \n",
       "5 Schleswig-Holstein 5               Kiel                             \n",
       "6 Schleswig-Holstein 6               Plön – Neumünster                \n",
       "  Bevölkerung_Insgesamt_in1000 Bevölkerung_Deutsche_in1000\n",
       "1 282.8                        266.7                      \n",
       "2 232.3                        219.7                      \n",
       "3 220.8                        209.8                      \n",
       "4 248.7                        239.4                      \n",
       "5 268.0                        242.9                      \n",
       "6 219.8                        206.8                      \n",
       "  Bevölkerung_Ausländer_Prozent Alter_unter18 Alter_18bis24 Alter_25bis34\n",
       "1 5.7                           16.5           8.7          11.3         \n",
       "2 5.4                           16.1           8.0          10.4         \n",
       "3 5.0                           16.7           7.6           9.9         \n",
       "4 3.7                           17.3           7.2           9.4         \n",
       "5 9.4                           14.6          10.8          17.4         \n",
       "6 5.9                           16.4           7.3          10.1         \n",
       "  Alter_35bis59 ... Bevölkerung_mitMigrationshintergrund\n",
       "1 35.0          ... 10.0                                \n",
       "2 35.1          ...  8.0                                \n",
       "3 37.0          ...  9.2                                \n",
       "4 37.2          ...  8.5                                \n",
       "5 32.8          ... 18.0                                \n",
       "6 35.8          ... 10.8                                \n",
       "  Bevölkerung_Religionszugehörigkeit_Römisch_katholisch\n",
       "1 5.1                                                  \n",
       "2 5.2                                                  \n",
       "3 4.2                                                  \n",
       "4 4.9                                                  \n",
       "5 7.3                                                  \n",
       "6 5.6                                                  \n",
       "  Bevölkerung_Religionszugehörigkeit_EvangelischeKirche\n",
       "1 59.5                                                 \n",
       "2 65.0                                                 \n",
       "3 59.9                                                 \n",
       "4 58.3                                                 \n",
       "5 41.8                                                 \n",
       "6 54.1                                                 \n",
       "  Bevölkerung_Religionszugehörigkeit_keine_OhneAngabe\n",
       "1 35.5                                               \n",
       "2 29.8                                               \n",
       "3 35.9                                               \n",
       "4 36.8                                               \n",
       "5 50.9                                               \n",
       "6 40.3                                               \n",
       "  Verfügbares_Einkommen_jeEinwohner Bruttoinlandsprodukt_jeEinwohner\n",
       "1 20265                             28300                           \n",
       "2 22159                             30078                           \n",
       "3 20896                             29298                           \n",
       "4 22093                             26659                           \n",
       "5 18637                             42836                           \n",
       "6 20395                             25983                           \n",
       "  Absolventen_allgemeiner_Fachhochschulreife Arbeitslosenquote_insgesamt_2017\n",
       "1 30.4                                       7.2                             \n",
       "2 23.4                                       7.2                             \n",
       "3 29.0                                       6.6                             \n",
       "4 30.9                                       5.1                             \n",
       "5 43.6                                       8.8                             \n",
       "6 34.6                                       6.9                             \n",
       "  EmpfängerInnen_SGBII_Leistungen_je1000 Dummy_West_Ost\n",
       "1  88.5                                  0             \n",
       "2  70.9                                  0             \n",
       "3  80.1                                  0             \n",
       "4  59.4                                  0             \n",
       "5 138.7                                  0             \n",
       "6  86.8                                  0             "
      ]
     },
     "metadata": {},
     "output_type": "display_data"
    }
   ],
   "source": [
    "head(Strukturdaten)\n"
   ]
  },
  {
   "cell_type": "code",
   "execution_count": 21,
   "metadata": {},
   "outputs": [],
   "source": [
    "Strukturdaten_West <- Strukturdaten_split$`0`\n",
    "Strukturdaten_Ost <- Strukturdaten_split$`1`"
   ]
  },
  {
   "cell_type": "code",
   "execution_count": 27,
   "metadata": {
    "collapsed": true
   },
   "outputs": [
    {
     "data": {
      "text/html": [
       "<table>\n",
       "<thead><tr><th></th><th scope=col>Land</th><th scope=col>Wahlkreisnummer</th><th scope=col>Wahlkreisname</th><th scope=col>Bevölkerung_Insgesamt_in1000</th><th scope=col>Bevölkerung_Deutsche_in1000</th><th scope=col>Bevölkerung_Ausländer_Prozent</th><th scope=col>Alter_unter18</th><th scope=col>Alter_18bis24</th><th scope=col>Alter_25bis34</th><th scope=col>Alter_35bis59</th><th scope=col>...</th><th scope=col>Bevölkerung_mitMigrationshintergrund</th><th scope=col>Bevölkerung_Religionszugehörigkeit_Römisch_katholisch</th><th scope=col>Bevölkerung_Religionszugehörigkeit_EvangelischeKirche</th><th scope=col>Bevölkerung_Religionszugehörigkeit_keine_OhneAngabe</th><th scope=col>Verfügbares_Einkommen_jeEinwohner</th><th scope=col>Bruttoinlandsprodukt_jeEinwohner</th><th scope=col>Absolventen_allgemeiner_Fachhochschulreife</th><th scope=col>Arbeitslosenquote_insgesamt_2017</th><th scope=col>EmpfängerInnen_SGBII_Leistungen_je1000</th><th scope=col>Dummy_West_Ost</th></tr></thead>\n",
       "<tbody>\n",
       "\t<tr><th scope=row>12</th><td>Mecklenburg-Vorpommern                                               </td><td>12                                                                   </td><td>Schwerin – Ludwigslust-Parchim I – Nordwestmecklenburg I             </td><td>270.9                                                                </td><td>254.6                                                                </td><td>6.0                                                                  </td><td>15.7                                                                 </td><td>5.5                                                                  </td><td>12.9                                                                 </td><td>36.6                                                                 </td><td>...                                                                  </td><td>4.7                                                                  </td><td>3.8                                                                  </td><td>19.2                                                                 </td><td>77.0                                                                 </td><td>18008                                                                </td><td>25884                                                                </td><td>39.8                                                                 </td><td> 7.8                                                                 </td><td> 97.9                                                                </td><td>1                                                                    </td></tr>\n",
       "\t<tr><th scope=row>13</th><td>Mecklenburg-Vorpommern                                               </td><td>13                                                                   </td><td>Ludwigslust-Parchim II – Nordwestmecklenburg II – Landkreis Rostock I</td><td>248.8                                                                </td><td>241.3                                                                </td><td>3.0                                                                  </td><td>14.7                                                                 </td><td>4.4                                                                  </td><td>11.6                                                                 </td><td>37.2                                                                 </td><td>...                                                                  </td><td>3.6                                                                  </td><td>3.2                                                                  </td><td>18.4                                                                 </td><td>78.4                                                                 </td><td>18081                                                                </td><td>20937                                                                </td><td>33.3                                                                 </td><td> 7.1                                                                 </td><td> 79.6                                                                </td><td>1                                                                    </td></tr>\n",
       "\t<tr><th scope=row>14</th><td>Mecklenburg-Vorpommern                                               </td><td>14                                                                   </td><td>Rostock – Landkreis Rostock II                                       </td><td>271.6                                                                </td><td>261.2                                                                </td><td>3.8                                                                  </td><td>14.3                                                                 </td><td>6.6                                                                  </td><td>16.2                                                                 </td><td>33.6                                                                 </td><td>...                                                                  </td><td>5.5                                                                  </td><td>3.1                                                                  </td><td>11.5                                                                 </td><td>85.4                                                                 </td><td>16879                                                                </td><td>31845                                                                </td><td>43.1                                                                 </td><td> 8.9                                                                 </td><td>111.9                                                                </td><td>1                                                                    </td></tr>\n",
       "\t<tr><th scope=row>15</th><td>Mecklenburg-Vorpommern                                               </td><td>15                                                                   </td><td>Vorpommern-Rügen – Vorpommern-Greifswald I                           </td><td>292.3                                                                </td><td>282.3                                                                </td><td>3.4                                                                  </td><td>14.1                                                                 </td><td>5.7                                                                  </td><td>13.4                                                                 </td><td>35.6                                                                 </td><td>...                                                                  </td><td>3.3                                                                  </td><td>2.6                                                                  </td><td>15.3                                                                 </td><td>82.0                                                                 </td><td>17287                                                                </td><td>20753                                                                </td><td>31.1                                                                 </td><td>11.9                                                                 </td><td>106.6                                                                </td><td>1                                                                    </td></tr>\n",
       "\t<tr><th scope=row>16</th><td>Mecklenburg-Vorpommern                                               </td><td>16                                                                   </td><td>Mecklenburgische Seenplatte I – Vorpommern-Greifswald II             </td><td>273.3                                                                </td><td>264.0                                                                </td><td>3.4                                                                  </td><td>14.4                                                                 </td><td>4.4                                                                  </td><td>11.4                                                                 </td><td>36.8                                                                 </td><td>...                                                                  </td><td>3.3                                                                  </td><td>3.1                                                                  </td><td>19.0                                                                 </td><td>77.9                                                                 </td><td>16955                                                                </td><td>21751                                                                </td><td>34.7                                                                 </td><td>11.7                                                                 </td><td>117.3                                                                </td><td>1                                                                    </td></tr>\n",
       "\t<tr><th scope=row>17</th><td>Mecklenburg-Vorpommern                                               </td><td>17                                                                   </td><td>Mecklenburgische Seenplatte II – Landkreis Rostock III               </td><td>255.6                                                                </td><td>249.6                                                                </td><td>2.3                                                                  </td><td>14.8                                                                 </td><td>4.2                                                                  </td><td>11.0                                                                 </td><td>37.8                                                                 </td><td>...                                                                  </td><td>2.6                                                                  </td><td>4.0                                                                  </td><td>20.0                                                                 </td><td>76.1                                                                 </td><td>17802                                                                </td><td>22923                                                                </td><td>33.6                                                                 </td><td>10.2                                                                 </td><td>106.2                                                                </td><td>1                                                                    </td></tr>\n",
       "</tbody>\n",
       "</table>\n"
      ],
      "text/latex": [
       "\\begin{tabular}{r|llllllllllllllllllllll}\n",
       "  & Land & Wahlkreisnummer & Wahlkreisname & Bevölkerung\\_Insgesamt\\_in1000 & Bevölkerung\\_Deutsche\\_in1000 & Bevölkerung\\_Ausländer\\_Prozent & Alter\\_unter18 & Alter\\_18bis24 & Alter\\_25bis34 & Alter\\_35bis59 & ... & Bevölkerung\\_mitMigrationshintergrund & Bevölkerung\\_Religionszugehörigkeit\\_Römisch\\_katholisch & Bevölkerung\\_Religionszugehörigkeit\\_EvangelischeKirche & Bevölkerung\\_Religionszugehörigkeit\\_keine\\_OhneAngabe & Verfügbares\\_Einkommen\\_jeEinwohner & Bruttoinlandsprodukt\\_jeEinwohner & Absolventen\\_allgemeiner\\_Fachhochschulreife & Arbeitslosenquote\\_insgesamt\\_2017 & EmpfängerInnen\\_SGBII\\_Leistungen\\_je1000 & Dummy\\_West\\_Ost\\\\\n",
       "\\hline\n",
       "\t12 & Mecklenburg-Vorpommern                                                & 12                                                                    & Schwerin – Ludwigslust-Parchim I – Nordwestmecklenburg I              & 270.9                                                                 & 254.6                                                                 & 6.0                                                                   & 15.7                                                                  & 5.5                                                                   & 12.9                                                                  & 36.6                                                                  & ...                                                                   & 4.7                                                                   & 3.8                                                                   & 19.2                                                                  & 77.0                                                                  & 18008                                                                 & 25884                                                                 & 39.8                                                                  &  7.8                                                                  &  97.9                                                                 & 1                                                                    \\\\\n",
       "\t13 & Mecklenburg-Vorpommern                                                & 13                                                                    & Ludwigslust-Parchim II – Nordwestmecklenburg II – Landkreis Rostock I & 248.8                                                                 & 241.3                                                                 & 3.0                                                                   & 14.7                                                                  & 4.4                                                                   & 11.6                                                                  & 37.2                                                                  & ...                                                                   & 3.6                                                                   & 3.2                                                                   & 18.4                                                                  & 78.4                                                                  & 18081                                                                 & 20937                                                                 & 33.3                                                                  &  7.1                                                                  &  79.6                                                                 & 1                                                                    \\\\\n",
       "\t14 & Mecklenburg-Vorpommern                                                & 14                                                                    & Rostock – Landkreis Rostock II                                        & 271.6                                                                 & 261.2                                                                 & 3.8                                                                   & 14.3                                                                  & 6.6                                                                   & 16.2                                                                  & 33.6                                                                  & ...                                                                   & 5.5                                                                   & 3.1                                                                   & 11.5                                                                  & 85.4                                                                  & 16879                                                                 & 31845                                                                 & 43.1                                                                  &  8.9                                                                  & 111.9                                                                 & 1                                                                    \\\\\n",
       "\t15 & Mecklenburg-Vorpommern                                                & 15                                                                    & Vorpommern-Rügen – Vorpommern-Greifswald I                            & 292.3                                                                 & 282.3                                                                 & 3.4                                                                   & 14.1                                                                  & 5.7                                                                   & 13.4                                                                  & 35.6                                                                  & ...                                                                   & 3.3                                                                   & 2.6                                                                   & 15.3                                                                  & 82.0                                                                  & 17287                                                                 & 20753                                                                 & 31.1                                                                  & 11.9                                                                  & 106.6                                                                 & 1                                                                    \\\\\n",
       "\t16 & Mecklenburg-Vorpommern                                                & 16                                                                    & Mecklenburgische Seenplatte I – Vorpommern-Greifswald II              & 273.3                                                                 & 264.0                                                                 & 3.4                                                                   & 14.4                                                                  & 4.4                                                                   & 11.4                                                                  & 36.8                                                                  & ...                                                                   & 3.3                                                                   & 3.1                                                                   & 19.0                                                                  & 77.9                                                                  & 16955                                                                 & 21751                                                                 & 34.7                                                                  & 11.7                                                                  & 117.3                                                                 & 1                                                                    \\\\\n",
       "\t17 & Mecklenburg-Vorpommern                                                & 17                                                                    & Mecklenburgische Seenplatte II – Landkreis Rostock III                & 255.6                                                                 & 249.6                                                                 & 2.3                                                                   & 14.8                                                                  & 4.2                                                                   & 11.0                                                                  & 37.8                                                                  & ...                                                                   & 2.6                                                                   & 4.0                                                                   & 20.0                                                                  & 76.1                                                                  & 17802                                                                 & 22923                                                                 & 33.6                                                                  & 10.2                                                                  & 106.2                                                                 & 1                                                                    \\\\\n",
       "\\end{tabular}\n"
      ],
      "text/markdown": [
       "\n",
       "| <!--/--> | Land | Wahlkreisnummer | Wahlkreisname | Bevölkerung_Insgesamt_in1000 | Bevölkerung_Deutsche_in1000 | Bevölkerung_Ausländer_Prozent | Alter_unter18 | Alter_18bis24 | Alter_25bis34 | Alter_35bis59 | ... | Bevölkerung_mitMigrationshintergrund | Bevölkerung_Religionszugehörigkeit_Römisch_katholisch | Bevölkerung_Religionszugehörigkeit_EvangelischeKirche | Bevölkerung_Religionszugehörigkeit_keine_OhneAngabe | Verfügbares_Einkommen_jeEinwohner | Bruttoinlandsprodukt_jeEinwohner | Absolventen_allgemeiner_Fachhochschulreife | Arbeitslosenquote_insgesamt_2017 | EmpfängerInnen_SGBII_Leistungen_je1000 | Dummy_West_Ost |\n",
       "|---|---|---|---|---|---|---|---|---|---|---|---|---|---|---|---|---|---|---|---|---|---|\n",
       "| 12 | Mecklenburg-Vorpommern                                                | 12                                                                    | Schwerin – Ludwigslust-Parchim I – Nordwestmecklenburg I              | 270.9                                                                 | 254.6                                                                 | 6.0                                                                   | 15.7                                                                  | 5.5                                                                   | 12.9                                                                  | 36.6                                                                  | ...                                                                   | 4.7                                                                   | 3.8                                                                   | 19.2                                                                  | 77.0                                                                  | 18008                                                                 | 25884                                                                 | 39.8                                                                  |  7.8                                                                  |  97.9                                                                 | 1                                                                     |\n",
       "| 13 | Mecklenburg-Vorpommern                                                | 13                                                                    | Ludwigslust-Parchim II – Nordwestmecklenburg II – Landkreis Rostock I | 248.8                                                                 | 241.3                                                                 | 3.0                                                                   | 14.7                                                                  | 4.4                                                                   | 11.6                                                                  | 37.2                                                                  | ...                                                                   | 3.6                                                                   | 3.2                                                                   | 18.4                                                                  | 78.4                                                                  | 18081                                                                 | 20937                                                                 | 33.3                                                                  |  7.1                                                                  |  79.6                                                                 | 1                                                                     |\n",
       "| 14 | Mecklenburg-Vorpommern                                                | 14                                                                    | Rostock – Landkreis Rostock II                                        | 271.6                                                                 | 261.2                                                                 | 3.8                                                                   | 14.3                                                                  | 6.6                                                                   | 16.2                                                                  | 33.6                                                                  | ...                                                                   | 5.5                                                                   | 3.1                                                                   | 11.5                                                                  | 85.4                                                                  | 16879                                                                 | 31845                                                                 | 43.1                                                                  |  8.9                                                                  | 111.9                                                                 | 1                                                                     |\n",
       "| 15 | Mecklenburg-Vorpommern                                                | 15                                                                    | Vorpommern-Rügen – Vorpommern-Greifswald I                            | 292.3                                                                 | 282.3                                                                 | 3.4                                                                   | 14.1                                                                  | 5.7                                                                   | 13.4                                                                  | 35.6                                                                  | ...                                                                   | 3.3                                                                   | 2.6                                                                   | 15.3                                                                  | 82.0                                                                  | 17287                                                                 | 20753                                                                 | 31.1                                                                  | 11.9                                                                  | 106.6                                                                 | 1                                                                     |\n",
       "| 16 | Mecklenburg-Vorpommern                                                | 16                                                                    | Mecklenburgische Seenplatte I – Vorpommern-Greifswald II              | 273.3                                                                 | 264.0                                                                 | 3.4                                                                   | 14.4                                                                  | 4.4                                                                   | 11.4                                                                  | 36.8                                                                  | ...                                                                   | 3.3                                                                   | 3.1                                                                   | 19.0                                                                  | 77.9                                                                  | 16955                                                                 | 21751                                                                 | 34.7                                                                  | 11.7                                                                  | 117.3                                                                 | 1                                                                     |\n",
       "| 17 | Mecklenburg-Vorpommern                                                | 17                                                                    | Mecklenburgische Seenplatte II – Landkreis Rostock III                | 255.6                                                                 | 249.6                                                                 | 2.3                                                                   | 14.8                                                                  | 4.2                                                                   | 11.0                                                                  | 37.8                                                                  | ...                                                                   | 2.6                                                                   | 4.0                                                                   | 20.0                                                                  | 76.1                                                                  | 17802                                                                 | 22923                                                                 | 33.6                                                                  | 10.2                                                                  | 106.2                                                                 | 1                                                                     |\n",
       "\n"
      ],
      "text/plain": [
       "   Land                   Wahlkreisnummer\n",
       "12 Mecklenburg-Vorpommern 12             \n",
       "13 Mecklenburg-Vorpommern 13             \n",
       "14 Mecklenburg-Vorpommern 14             \n",
       "15 Mecklenburg-Vorpommern 15             \n",
       "16 Mecklenburg-Vorpommern 16             \n",
       "17 Mecklenburg-Vorpommern 17             \n",
       "   Wahlkreisname                                                        \n",
       "12 Schwerin – Ludwigslust-Parchim I – Nordwestmecklenburg I             \n",
       "13 Ludwigslust-Parchim II – Nordwestmecklenburg II – Landkreis Rostock I\n",
       "14 Rostock – Landkreis Rostock II                                       \n",
       "15 Vorpommern-Rügen – Vorpommern-Greifswald I                           \n",
       "16 Mecklenburgische Seenplatte I – Vorpommern-Greifswald II             \n",
       "17 Mecklenburgische Seenplatte II – Landkreis Rostock III               \n",
       "   Bevölkerung_Insgesamt_in1000 Bevölkerung_Deutsche_in1000\n",
       "12 270.9                        254.6                      \n",
       "13 248.8                        241.3                      \n",
       "14 271.6                        261.2                      \n",
       "15 292.3                        282.3                      \n",
       "16 273.3                        264.0                      \n",
       "17 255.6                        249.6                      \n",
       "   Bevölkerung_Ausländer_Prozent Alter_unter18 Alter_18bis24 Alter_25bis34\n",
       "12 6.0                           15.7          5.5           12.9         \n",
       "13 3.0                           14.7          4.4           11.6         \n",
       "14 3.8                           14.3          6.6           16.2         \n",
       "15 3.4                           14.1          5.7           13.4         \n",
       "16 3.4                           14.4          4.4           11.4         \n",
       "17 2.3                           14.8          4.2           11.0         \n",
       "   Alter_35bis59 ... Bevölkerung_mitMigrationshintergrund\n",
       "12 36.6          ... 4.7                                 \n",
       "13 37.2          ... 3.6                                 \n",
       "14 33.6          ... 5.5                                 \n",
       "15 35.6          ... 3.3                                 \n",
       "16 36.8          ... 3.3                                 \n",
       "17 37.8          ... 2.6                                 \n",
       "   Bevölkerung_Religionszugehörigkeit_Römisch_katholisch\n",
       "12 3.8                                                  \n",
       "13 3.2                                                  \n",
       "14 3.1                                                  \n",
       "15 2.6                                                  \n",
       "16 3.1                                                  \n",
       "17 4.0                                                  \n",
       "   Bevölkerung_Religionszugehörigkeit_EvangelischeKirche\n",
       "12 19.2                                                 \n",
       "13 18.4                                                 \n",
       "14 11.5                                                 \n",
       "15 15.3                                                 \n",
       "16 19.0                                                 \n",
       "17 20.0                                                 \n",
       "   Bevölkerung_Religionszugehörigkeit_keine_OhneAngabe\n",
       "12 77.0                                               \n",
       "13 78.4                                               \n",
       "14 85.4                                               \n",
       "15 82.0                                               \n",
       "16 77.9                                               \n",
       "17 76.1                                               \n",
       "   Verfügbares_Einkommen_jeEinwohner Bruttoinlandsprodukt_jeEinwohner\n",
       "12 18008                             25884                           \n",
       "13 18081                             20937                           \n",
       "14 16879                             31845                           \n",
       "15 17287                             20753                           \n",
       "16 16955                             21751                           \n",
       "17 17802                             22923                           \n",
       "   Absolventen_allgemeiner_Fachhochschulreife Arbeitslosenquote_insgesamt_2017\n",
       "12 39.8                                        7.8                            \n",
       "13 33.3                                        7.1                            \n",
       "14 43.1                                        8.9                            \n",
       "15 31.1                                       11.9                            \n",
       "16 34.7                                       11.7                            \n",
       "17 33.6                                       10.2                            \n",
       "   EmpfängerInnen_SGBII_Leistungen_je1000 Dummy_West_Ost\n",
       "12  97.9                                  1             \n",
       "13  79.6                                  1             \n",
       "14 111.9                                  1             \n",
       "15 106.6                                  1             \n",
       "16 117.3                                  1             \n",
       "17 106.2                                  1             "
      ]
     },
     "metadata": {},
     "output_type": "display_data"
    }
   ],
   "source": [
    "head(Strukturdaten_Ost)"
   ]
  },
  {
   "cell_type": "code",
   "execution_count": 28,
   "metadata": {
    "collapsed": true
   },
   "outputs": [
    {
     "data": {
      "text/html": [
       "<table>\n",
       "<thead><tr><th scope=col>Land</th><th scope=col>Wahlkreisnummer</th><th scope=col>Wahlkreisname</th><th scope=col>Bevölkerung_Insgesamt_in1000</th><th scope=col>Bevölkerung_Deutsche_in1000</th><th scope=col>Bevölkerung_Ausländer_Prozent</th><th scope=col>Alter_unter18</th><th scope=col>Alter_18bis24</th><th scope=col>Alter_25bis34</th><th scope=col>Alter_35bis59</th><th scope=col>...</th><th scope=col>Bevölkerung_mitMigrationshintergrund</th><th scope=col>Bevölkerung_Religionszugehörigkeit_Römisch_katholisch</th><th scope=col>Bevölkerung_Religionszugehörigkeit_EvangelischeKirche</th><th scope=col>Bevölkerung_Religionszugehörigkeit_keine_OhneAngabe</th><th scope=col>Verfügbares_Einkommen_jeEinwohner</th><th scope=col>Bruttoinlandsprodukt_jeEinwohner</th><th scope=col>Absolventen_allgemeiner_Fachhochschulreife</th><th scope=col>Arbeitslosenquote_insgesamt_2017</th><th scope=col>EmpfängerInnen_SGBII_Leistungen_je1000</th><th scope=col>Dummy_West_Ost</th></tr></thead>\n",
       "<tbody>\n",
       "\t<tr><td>Schleswig-Holstein               </td><td>1                                </td><td>Flensburg – Schleswig            </td><td>282.8                            </td><td>266.7                            </td><td>5.7                              </td><td>16.5                             </td><td> 8.7                             </td><td>11.3                             </td><td>35.0                             </td><td>...                              </td><td>10.0                             </td><td>5.1                              </td><td>59.5                             </td><td>35.5                             </td><td>20265                            </td><td>28300                            </td><td>30.4                             </td><td>7.2                              </td><td> 88.5                            </td><td>0                                </td></tr>\n",
       "\t<tr><td>Schleswig-Holstein               </td><td>2                                </td><td>Nordfriesland – Dithmarschen Nord</td><td>232.3                            </td><td>219.7                            </td><td>5.4                              </td><td>16.1                             </td><td> 8.0                             </td><td>10.4                             </td><td>35.1                             </td><td>...                              </td><td> 8.0                             </td><td>5.2                              </td><td>65.0                             </td><td>29.8                             </td><td>22159                            </td><td>30078                            </td><td>23.4                             </td><td>7.2                              </td><td> 70.9                            </td><td>0                                </td></tr>\n",
       "\t<tr><td>Schleswig-Holstein               </td><td>3                                </td><td>Steinburg – Dithmarschen Süd     </td><td>220.8                            </td><td>209.8                            </td><td>5.0                              </td><td>16.7                             </td><td> 7.6                             </td><td> 9.9                             </td><td>37.0                             </td><td>...                              </td><td> 9.2                             </td><td>4.2                              </td><td>59.9                             </td><td>35.9                             </td><td>20896                            </td><td>29298                            </td><td>29.0                             </td><td>6.6                              </td><td> 80.1                            </td><td>0                                </td></tr>\n",
       "\t<tr><td>Schleswig-Holstein               </td><td>4                                </td><td>Rendsburg-Eckernförde            </td><td>248.7                            </td><td>239.4                            </td><td>3.7                              </td><td>17.3                             </td><td> 7.2                             </td><td> 9.4                             </td><td>37.2                             </td><td>...                              </td><td> 8.5                             </td><td>4.9                              </td><td>58.3                             </td><td>36.8                             </td><td>22093                            </td><td>26659                            </td><td>30.9                             </td><td>5.1                              </td><td> 59.4                            </td><td>0                                </td></tr>\n",
       "\t<tr><td>Schleswig-Holstein               </td><td>5                                </td><td>Kiel                             </td><td>268.0                            </td><td>242.9                            </td><td>9.4                              </td><td>14.6                             </td><td>10.8                             </td><td>17.4                             </td><td>32.8                             </td><td>...                              </td><td>18.0                             </td><td>7.3                              </td><td>41.8                             </td><td>50.9                             </td><td>18637                            </td><td>42836                            </td><td>43.6                             </td><td>8.8                              </td><td>138.7                            </td><td>0                                </td></tr>\n",
       "\t<tr><td>Schleswig-Holstein               </td><td>6                                </td><td>Plön – Neumünster                </td><td>219.8                            </td><td>206.8                            </td><td>5.9                              </td><td>16.4                             </td><td> 7.3                             </td><td>10.1                             </td><td>35.8                             </td><td>...                              </td><td>10.8                             </td><td>5.6                              </td><td>54.1                             </td><td>40.3                             </td><td>20395                            </td><td>25983                            </td><td>34.6                             </td><td>6.9                              </td><td> 86.8                            </td><td>0                                </td></tr>\n",
       "</tbody>\n",
       "</table>\n"
      ],
      "text/latex": [
       "\\begin{tabular}{r|llllllllllllllllllllll}\n",
       " Land & Wahlkreisnummer & Wahlkreisname & Bevölkerung\\_Insgesamt\\_in1000 & Bevölkerung\\_Deutsche\\_in1000 & Bevölkerung\\_Ausländer\\_Prozent & Alter\\_unter18 & Alter\\_18bis24 & Alter\\_25bis34 & Alter\\_35bis59 & ... & Bevölkerung\\_mitMigrationshintergrund & Bevölkerung\\_Religionszugehörigkeit\\_Römisch\\_katholisch & Bevölkerung\\_Religionszugehörigkeit\\_EvangelischeKirche & Bevölkerung\\_Religionszugehörigkeit\\_keine\\_OhneAngabe & Verfügbares\\_Einkommen\\_jeEinwohner & Bruttoinlandsprodukt\\_jeEinwohner & Absolventen\\_allgemeiner\\_Fachhochschulreife & Arbeitslosenquote\\_insgesamt\\_2017 & EmpfängerInnen\\_SGBII\\_Leistungen\\_je1000 & Dummy\\_West\\_Ost\\\\\n",
       "\\hline\n",
       "\t Schleswig-Holstein                & 1                                 & Flensburg – Schleswig             & 282.8                             & 266.7                             & 5.7                               & 16.5                              &  8.7                              & 11.3                              & 35.0                              & ...                               & 10.0                              & 5.1                               & 59.5                              & 35.5                              & 20265                             & 28300                             & 30.4                              & 7.2                               &  88.5                             & 0                                \\\\\n",
       "\t Schleswig-Holstein                & 2                                 & Nordfriesland – Dithmarschen Nord & 232.3                             & 219.7                             & 5.4                               & 16.1                              &  8.0                              & 10.4                              & 35.1                              & ...                               &  8.0                              & 5.2                               & 65.0                              & 29.8                              & 22159                             & 30078                             & 23.4                              & 7.2                               &  70.9                             & 0                                \\\\\n",
       "\t Schleswig-Holstein                & 3                                 & Steinburg – Dithmarschen Süd      & 220.8                             & 209.8                             & 5.0                               & 16.7                              &  7.6                              &  9.9                              & 37.0                              & ...                               &  9.2                              & 4.2                               & 59.9                              & 35.9                              & 20896                             & 29298                             & 29.0                              & 6.6                               &  80.1                             & 0                                \\\\\n",
       "\t Schleswig-Holstein                & 4                                 & Rendsburg-Eckernförde             & 248.7                             & 239.4                             & 3.7                               & 17.3                              &  7.2                              &  9.4                              & 37.2                              & ...                               &  8.5                              & 4.9                               & 58.3                              & 36.8                              & 22093                             & 26659                             & 30.9                              & 5.1                               &  59.4                             & 0                                \\\\\n",
       "\t Schleswig-Holstein                & 5                                 & Kiel                              & 268.0                             & 242.9                             & 9.4                               & 14.6                              & 10.8                              & 17.4                              & 32.8                              & ...                               & 18.0                              & 7.3                               & 41.8                              & 50.9                              & 18637                             & 42836                             & 43.6                              & 8.8                               & 138.7                             & 0                                \\\\\n",
       "\t Schleswig-Holstein                & 6                                 & Plön – Neumünster                 & 219.8                             & 206.8                             & 5.9                               & 16.4                              &  7.3                              & 10.1                              & 35.8                              & ...                               & 10.8                              & 5.6                               & 54.1                              & 40.3                              & 20395                             & 25983                             & 34.6                              & 6.9                               &  86.8                             & 0                                \\\\\n",
       "\\end{tabular}\n"
      ],
      "text/markdown": [
       "\n",
       "| Land | Wahlkreisnummer | Wahlkreisname | Bevölkerung_Insgesamt_in1000 | Bevölkerung_Deutsche_in1000 | Bevölkerung_Ausländer_Prozent | Alter_unter18 | Alter_18bis24 | Alter_25bis34 | Alter_35bis59 | ... | Bevölkerung_mitMigrationshintergrund | Bevölkerung_Religionszugehörigkeit_Römisch_katholisch | Bevölkerung_Religionszugehörigkeit_EvangelischeKirche | Bevölkerung_Religionszugehörigkeit_keine_OhneAngabe | Verfügbares_Einkommen_jeEinwohner | Bruttoinlandsprodukt_jeEinwohner | Absolventen_allgemeiner_Fachhochschulreife | Arbeitslosenquote_insgesamt_2017 | EmpfängerInnen_SGBII_Leistungen_je1000 | Dummy_West_Ost |\n",
       "|---|---|---|---|---|---|---|---|---|---|---|---|---|---|---|---|---|---|---|---|---|\n",
       "| Schleswig-Holstein                | 1                                 | Flensburg – Schleswig             | 282.8                             | 266.7                             | 5.7                               | 16.5                              |  8.7                              | 11.3                              | 35.0                              | ...                               | 10.0                              | 5.1                               | 59.5                              | 35.5                              | 20265                             | 28300                             | 30.4                              | 7.2                               |  88.5                             | 0                                 |\n",
       "| Schleswig-Holstein                | 2                                 | Nordfriesland – Dithmarschen Nord | 232.3                             | 219.7                             | 5.4                               | 16.1                              |  8.0                              | 10.4                              | 35.1                              | ...                               |  8.0                              | 5.2                               | 65.0                              | 29.8                              | 22159                             | 30078                             | 23.4                              | 7.2                               |  70.9                             | 0                                 |\n",
       "| Schleswig-Holstein                | 3                                 | Steinburg – Dithmarschen Süd      | 220.8                             | 209.8                             | 5.0                               | 16.7                              |  7.6                              |  9.9                              | 37.0                              | ...                               |  9.2                              | 4.2                               | 59.9                              | 35.9                              | 20896                             | 29298                             | 29.0                              | 6.6                               |  80.1                             | 0                                 |\n",
       "| Schleswig-Holstein                | 4                                 | Rendsburg-Eckernförde             | 248.7                             | 239.4                             | 3.7                               | 17.3                              |  7.2                              |  9.4                              | 37.2                              | ...                               |  8.5                              | 4.9                               | 58.3                              | 36.8                              | 22093                             | 26659                             | 30.9                              | 5.1                               |  59.4                             | 0                                 |\n",
       "| Schleswig-Holstein                | 5                                 | Kiel                              | 268.0                             | 242.9                             | 9.4                               | 14.6                              | 10.8                              | 17.4                              | 32.8                              | ...                               | 18.0                              | 7.3                               | 41.8                              | 50.9                              | 18637                             | 42836                             | 43.6                              | 8.8                               | 138.7                             | 0                                 |\n",
       "| Schleswig-Holstein                | 6                                 | Plön – Neumünster                 | 219.8                             | 206.8                             | 5.9                               | 16.4                              |  7.3                              | 10.1                              | 35.8                              | ...                               | 10.8                              | 5.6                               | 54.1                              | 40.3                              | 20395                             | 25983                             | 34.6                              | 6.9                               |  86.8                             | 0                                 |\n",
       "\n"
      ],
      "text/plain": [
       "  Land               Wahlkreisnummer Wahlkreisname                    \n",
       "1 Schleswig-Holstein 1               Flensburg – Schleswig            \n",
       "2 Schleswig-Holstein 2               Nordfriesland – Dithmarschen Nord\n",
       "3 Schleswig-Holstein 3               Steinburg – Dithmarschen Süd     \n",
       "4 Schleswig-Holstein 4               Rendsburg-Eckernförde            \n",
       "5 Schleswig-Holstein 5               Kiel                             \n",
       "6 Schleswig-Holstein 6               Plön – Neumünster                \n",
       "  Bevölkerung_Insgesamt_in1000 Bevölkerung_Deutsche_in1000\n",
       "1 282.8                        266.7                      \n",
       "2 232.3                        219.7                      \n",
       "3 220.8                        209.8                      \n",
       "4 248.7                        239.4                      \n",
       "5 268.0                        242.9                      \n",
       "6 219.8                        206.8                      \n",
       "  Bevölkerung_Ausländer_Prozent Alter_unter18 Alter_18bis24 Alter_25bis34\n",
       "1 5.7                           16.5           8.7          11.3         \n",
       "2 5.4                           16.1           8.0          10.4         \n",
       "3 5.0                           16.7           7.6           9.9         \n",
       "4 3.7                           17.3           7.2           9.4         \n",
       "5 9.4                           14.6          10.8          17.4         \n",
       "6 5.9                           16.4           7.3          10.1         \n",
       "  Alter_35bis59 ... Bevölkerung_mitMigrationshintergrund\n",
       "1 35.0          ... 10.0                                \n",
       "2 35.1          ...  8.0                                \n",
       "3 37.0          ...  9.2                                \n",
       "4 37.2          ...  8.5                                \n",
       "5 32.8          ... 18.0                                \n",
       "6 35.8          ... 10.8                                \n",
       "  Bevölkerung_Religionszugehörigkeit_Römisch_katholisch\n",
       "1 5.1                                                  \n",
       "2 5.2                                                  \n",
       "3 4.2                                                  \n",
       "4 4.9                                                  \n",
       "5 7.3                                                  \n",
       "6 5.6                                                  \n",
       "  Bevölkerung_Religionszugehörigkeit_EvangelischeKirche\n",
       "1 59.5                                                 \n",
       "2 65.0                                                 \n",
       "3 59.9                                                 \n",
       "4 58.3                                                 \n",
       "5 41.8                                                 \n",
       "6 54.1                                                 \n",
       "  Bevölkerung_Religionszugehörigkeit_keine_OhneAngabe\n",
       "1 35.5                                               \n",
       "2 29.8                                               \n",
       "3 35.9                                               \n",
       "4 36.8                                               \n",
       "5 50.9                                               \n",
       "6 40.3                                               \n",
       "  Verfügbares_Einkommen_jeEinwohner Bruttoinlandsprodukt_jeEinwohner\n",
       "1 20265                             28300                           \n",
       "2 22159                             30078                           \n",
       "3 20896                             29298                           \n",
       "4 22093                             26659                           \n",
       "5 18637                             42836                           \n",
       "6 20395                             25983                           \n",
       "  Absolventen_allgemeiner_Fachhochschulreife Arbeitslosenquote_insgesamt_2017\n",
       "1 30.4                                       7.2                             \n",
       "2 23.4                                       7.2                             \n",
       "3 29.0                                       6.6                             \n",
       "4 30.9                                       5.1                             \n",
       "5 43.6                                       8.8                             \n",
       "6 34.6                                       6.9                             \n",
       "  EmpfängerInnen_SGBII_Leistungen_je1000 Dummy_West_Ost\n",
       "1  88.5                                  0             \n",
       "2  70.9                                  0             \n",
       "3  80.1                                  0             \n",
       "4  59.4                                  0             \n",
       "5 138.7                                  0             \n",
       "6  86.8                                  0             "
      ]
     },
     "metadata": {},
     "output_type": "display_data"
    }
   ],
   "source": [
    "head(Strukturdaten_West)"
   ]
  },
  {
   "cell_type": "markdown",
   "metadata": {},
   "source": [
    "## Deskriptive Statistik"
   ]
  },
  {
   "cell_type": "code",
   "execution_count": 32,
   "metadata": {},
   "outputs": [],
   "source": [
    "Soceco <- Strukturdaten[,c(17:18,20:21)]\n",
    "Soceco_West <- Strukturdaten_West[,c(17:18,20:21)]\n",
    "Soceco_Ost <- Strukturdaten_Ost[,c(17:18,20:21)] \n",
    "#head(Soceco)"
   ]
  },
  {
   "cell_type": "code",
   "execution_count": 37,
   "metadata": {},
   "outputs": [
    {
     "ename": "ERROR",
     "evalue": "Error in parse(text = x, srcfile = src): <text>:2:0: unexpected end of input\n1: Soceco_mean <- sapply(Filter(is.numeric, Soceco, mean)                     \n   ^\n",
     "output_type": "error",
     "traceback": [
      "Error in parse(text = x, srcfile = src): <text>:2:0: unexpected end of input\n1: Soceco_mean <- sapply(Filter(is.numeric, Soceco, mean)                     \n   ^\nTraceback:\n"
     ]
    }
   ],
   "source": [
    "Soceco_mean <- sapply(Filter(is.numeric, Soceco, mean)                     "
   ]
  }
 ],
 "metadata": {
  "kernelspec": {
   "display_name": "R",
   "language": "R",
   "name": "ir"
  },
  "language_info": {
   "codemirror_mode": "r",
   "file_extension": ".r",
   "mimetype": "text/x-r-source",
   "name": "R",
   "pygments_lexer": "r",
   "version": "3.6.1"
  }
 },
 "nbformat": 4,
 "nbformat_minor": 4
}
